{
 "cells": [
  {
   "cell_type": "markdown",
   "id": "0db7a5ee-d633-45c5-bc21-859c7a39c3d7",
   "metadata": {},
   "source": [
    "1. What are the two values of the Boolean data type? How do you write them?\n",
    "\n",
    "ANSWER\n",
    "\n",
    "There are two values in boolean data type true and false"
   ]
  },
  {
   "cell_type": "code",
   "execution_count": 2,
   "id": "c7fc1839-61f9-47fb-8b9c-d770bc9ca96e",
   "metadata": {},
   "outputs": [
    {
     "name": "stdout",
     "output_type": "stream",
     "text": [
      "True\n"
     ]
    }
   ],
   "source": [
    "print(True)"
   ]
  },
  {
   "cell_type": "code",
   "execution_count": 3,
   "id": "0e384901-335b-4180-b305-fa92146b69a4",
   "metadata": {},
   "outputs": [
    {
     "name": "stdout",
     "output_type": "stream",
     "text": [
      "False\n"
     ]
    }
   ],
   "source": [
    "print(False)"
   ]
  },
  {
   "cell_type": "markdown",
   "id": "c2660f17-9096-4573-aa4f-d42c224af145",
   "metadata": {},
   "source": [
    "2. What are the three different types of Boolean operators?\n",
    "\n",
    "ANSWER\n",
    "\n",
    "The three different types of Boolean operators are:\n",
    "   1 AND operator :In this case both the value should return True else you will get 0\n",
    "   2 OR operator  : One must be True else you will get 0\n",
    "   3 Not Operator : It is often used to reverse the logical state of a condition or expression.(!)"
   ]
  },
  {
   "cell_type": "markdown",
   "id": "6ea9395f-46e6-4baf-8769-683c2319189c",
   "metadata": {},
   "source": [
    "  3. Make a list of each Boolean operator's truth tables (i.e. every possible combination of Boolean values for the operator and what it evaluate).\n",
    "\n",
    "ANSWER\n",
    "\n",
    "TRUTH TABLE FOR AND OPERATOR\n",
    "True and True is True\n",
    "True and False is False\n",
    "False and True is False\n",
    "False and False is False\n",
    "\n",
    "TRUTH TABLE FOR OR OPERATOR\n",
    "True and true is true \n",
    "True and False is True\n",
    "False and True is True \n",
    "False and False is False\n",
    "\n",
    "TRUTH TABLE FOR NOT OPERATOR\n",
    "True not is False\n",
    "False not is True\n"
   ]
  },
  {
   "cell_type": "markdown",
   "id": "3335dfb0-9671-4d13-b525-d03ce5d57a60",
   "metadata": {},
   "source": [
    "4. What are the values of the following expressions?\n",
    "\n",
    "ANSWER\n"
   ]
  },
  {
   "cell_type": "code",
   "execution_count": 12,
   "id": "c2c636a7-e456-48c4-bab2-8cd06e8470f0",
   "metadata": {},
   "outputs": [
    {
     "data": {
      "text/plain": [
       "False"
      ]
     },
     "execution_count": 12,
     "metadata": {},
     "output_type": "execute_result"
    }
   ],
   "source": [
    "(5 > 4) and (3 == 5)"
   ]
  },
  {
   "cell_type": "code",
   "execution_count": 7,
   "id": "104de9bb-786b-4bb6-b104-29ffbd319000",
   "metadata": {},
   "outputs": [
    {
     "data": {
      "text/plain": [
       "False"
      ]
     },
     "execution_count": 7,
     "metadata": {},
     "output_type": "execute_result"
    }
   ],
   "source": [
    "not (5 > 4)"
   ]
  },
  {
   "cell_type": "code",
   "execution_count": 8,
   "id": "645a98d1-c94f-4ca6-8174-85f122282baa",
   "metadata": {},
   "outputs": [
    {
     "data": {
      "text/plain": [
       "True"
      ]
     },
     "execution_count": 8,
     "metadata": {},
     "output_type": "execute_result"
    }
   ],
   "source": [
    "(5 > 4) or (3 == 5)"
   ]
  },
  {
   "cell_type": "code",
   "execution_count": 9,
   "id": "44c4f054-4d91-45a5-82cf-9886c9feba7d",
   "metadata": {},
   "outputs": [
    {
     "data": {
      "text/plain": [
       "False"
      ]
     },
     "execution_count": 9,
     "metadata": {},
     "output_type": "execute_result"
    }
   ],
   "source": [
    "not ((5 > 4) or (3 == 5))"
   ]
  },
  {
   "cell_type": "code",
   "execution_count": 10,
   "id": "266b891f-31ee-4658-9751-3816df6a027c",
   "metadata": {},
   "outputs": [
    {
     "data": {
      "text/plain": [
       "False"
      ]
     },
     "execution_count": 10,
     "metadata": {},
     "output_type": "execute_result"
    }
   ],
   "source": [
    "(True and True) and (True == False)"
   ]
  },
  {
   "cell_type": "code",
   "execution_count": 11,
   "id": "95bb9912-db2e-4821-b197-5467bffc8fc2",
   "metadata": {},
   "outputs": [
    {
     "data": {
      "text/plain": [
       "True"
      ]
     },
     "execution_count": 11,
     "metadata": {},
     "output_type": "execute_result"
    }
   ],
   "source": [
    "(not False) or (not True)"
   ]
  },
  {
   "cell_type": "markdown",
   "id": "dd2f9aa5-0a5f-4a8b-96c3-8814bc6a36ac",
   "metadata": {},
   "source": [
    "5. What are the six comparison operators?\n",
    "\n",
    "ANSWER\n",
    "\n",
    "1. Arthmetics operators\n",
    "2. Compression operator\n",
    "3. Logical operator\n",
    "4. Bitwise operator\n",
    "5. Assignment opertors\n",
    "6. Special operator."
   ]
  },
  {
   "cell_type": "markdown",
   "id": "4cf01318-8ed7-4405-8309-ff2613272c31",
   "metadata": {},
   "source": [
    "6. How do you tell the difference between the equal to and assignment operators?Describe a condition and when you would use one.\n",
    "\n",
    "ANSWER\n",
    "\n",
    "ASSINGMENT OPERATORS : The “=” is an assignment operator used to assign the value on the right to the variable on the left. \n",
    "\n",
    "FOR EXAMPLE:\n"
   ]
  },
  {
   "cell_type": "code",
   "execution_count": 22,
   "id": "b16449b3-fda1-474b-9f8d-5236d881cc72",
   "metadata": {},
   "outputs": [
    {
     "name": "stdout",
     "output_type": "stream",
     "text": [
      "10\n"
     ]
    }
   ],
   "source": [
    "a=10\n",
    "print(a)"
   ]
  },
  {
   "cell_type": "markdown",
   "id": "db398f89-bf8d-4fa2-a0f3-c0fe9b18fa65",
   "metadata": {},
   "source": [
    "EQUAL TO : The ‘==’ operator checks whether the two given operands are equal or not. If so, it returns true. Otherwise it returns false. \n",
    "\n",
    "FOR EXAMPLE:"
   ]
  },
  {
   "cell_type": "code",
   "execution_count": 31,
   "id": "5c4a47d9-9dde-4a31-b924-d34391d6dd1f",
   "metadata": {},
   "outputs": [
    {
     "name": "stdout",
     "output_type": "stream",
     "text": [
      "a == b : False\n"
     ]
    }
   ],
   "source": [
    "a = 5\n",
    "\n",
    "b = 2\n",
    "\n",
    "# equal to operator\n",
    "print(\"a == b :\", a==b) "
   ]
  },
  {
   "cell_type": "markdown",
   "id": "288b823d-8c5f-46da-adb2-f3ce7fdad2f1",
   "metadata": {},
   "source": [
    "7. Identify the three blocks in this code:\n",
    "\n",
    "ANSWER\n",
    "    "
   ]
  },
  {
   "cell_type": "code",
   "execution_count": 15,
   "id": "94d0e397-054f-4701-9ff9-42ec5844784f",
   "metadata": {},
   "outputs": [
    {
     "name": "stdout",
     "output_type": "stream",
     "text": [
      "ham\n",
      "spam\n",
      "spam\n"
     ]
    }
   ],
   "source": [
    "spam = 0\n",
    "if spam == 10:\n",
    "    print('eggs')\n",
    "if spam > 5:\n",
    "    print('bacon')\n",
    "else:\n",
    "    print('ham')\n",
    "    print('spam')\n",
    "    print('spam')"
   ]
  },
  {
   "cell_type": "markdown",
   "id": "91d6b757-7fd7-460c-821b-d1e8b7eae27c",
   "metadata": {},
   "source": [
    "8. Write code that prints Hello if 1 is stored in spam, prints Howdy if 2 is stored in spam, and prints\n",
    "Greetings! if anything else is stored in spam.\n",
    "\n",
    "ANSWER\n"
   ]
  },
  {
   "cell_type": "code",
   "execution_count": 16,
   "id": "66064bae-821e-4ec1-a729-106bee751c00",
   "metadata": {},
   "outputs": [
    {
     "name": "stdin",
     "output_type": "stream",
     "text": [
      "ENTER ANY NUMBER: 6\n"
     ]
    },
    {
     "name": "stdout",
     "output_type": "stream",
     "text": [
      "Greeting!\n"
     ]
    }
   ],
   "source": [
    "spam= int(input(\"ENTER ANY NUMBER:\"))\n",
    "if spam==1:\n",
    "    print('Hello')\n",
    "elif spam==2:\n",
    "    print(\"Howdy\")\n",
    "else:\n",
    "    print('Greeting!')"
   ]
  },
  {
   "cell_type": "markdown",
   "id": "fa24b433-e809-468c-b5b9-84e97f04185a",
   "metadata": {},
   "source": [
    "9. If your programme is stuck in an endless loop, what keys you’ll press?\n",
    "\n",
    "ANSWER\n",
    "\n",
    "You can stop an endless loop with CTRL + C"
   ]
  },
  {
   "cell_type": "markdown",
   "id": "4dfadb45-4cbc-42a6-9c23-9fdebe113495",
   "metadata": {},
   "source": [
    "10. How can you tell the difference between break and continue?\n",
    "\n",
    "ANSWER\n",
    "\n",
    "BREAK - A break statement is used to terminate the loop whenever a particular condition is satisfied. The statement is there just next after the loop receives control of the program. The break statement will end the innermost loop if it is contained within a nested loop that is the loop inside the other loop. It is used to end the loop that it is enclosed in, such as a do-while, while, switch, and for statement\n",
    "\n",
    "\n",
    "FOR EXAMPLE"
   ]
  },
  {
   "cell_type": "code",
   "execution_count": 2,
   "id": "652bd948-600a-4153-8d55-27fe95a3d9a8",
   "metadata": {},
   "outputs": [
    {
     "name": "stdout",
     "output_type": "stream",
     "text": [
      "R\n",
      "A\n",
      "H\n",
      "U\n"
     ]
    }
   ],
   "source": [
    "for char in \"RAHUL YADAV\":\n",
    "    if char == \"L\":\n",
    "        break\n",
    "    print(char)"
   ]
  },
  {
   "cell_type": "markdown",
   "id": "883dddf9-08eb-479d-b921-3465f91dcde5",
   "metadata": {},
   "source": [
    "CONTINUE -The continue statement skips the remaining lines of code, for the current iteration of the loop. In this case, the loop does not end, it continues with the next iteration.\n",
    "\n",
    "FOR EXAMPLE"
   ]
  },
  {
   "cell_type": "code",
   "execution_count": 3,
   "id": "8e8b5924-73c2-4f4e-83ae-f4a8d076950b",
   "metadata": {},
   "outputs": [
    {
     "name": "stdout",
     "output_type": "stream",
     "text": [
      "R\n",
      "A\n",
      "H\n",
      "U\n",
      "L\n",
      " \n",
      "Y\n",
      "A\n",
      "A\n",
      "V\n"
     ]
    }
   ],
   "source": [
    "for char in \"RAHUL YADAV\":\n",
    "    if char == \"D\":\n",
    "        continue\n",
    "    print(char)"
   ]
  },
  {
   "cell_type": "markdown",
   "id": "fe64dd02-ed7d-438f-ac45-b13ad3fda08b",
   "metadata": {},
   "source": [
    "11. In a for loop, what is the difference between range(10), range(0, 10), and range(0, 10, 1)?\n",
    "\n",
    "ANSWER\n",
    "\n"
   ]
  },
  {
   "cell_type": "code",
   "execution_count": 3,
   "id": "11d7abcd-3d2d-4c7e-b4af-0699879e32a3",
   "metadata": {},
   "outputs": [
    {
     "name": "stdout",
     "output_type": "stream",
     "text": [
      "0\n",
      "1\n",
      "2\n",
      "3\n",
      "4\n",
      "5\n",
      "6\n",
      "7\n",
      "8\n",
      "9\n"
     ]
    }
   ],
   "source": [
    "for i in range(10):         #range(stop)\n",
    "    print(i)"
   ]
  },
  {
   "cell_type": "code",
   "execution_count": 4,
   "id": "1e6ed6d6-b9de-4b00-a922-212555347032",
   "metadata": {},
   "outputs": [
    {
     "name": "stdout",
     "output_type": "stream",
     "text": [
      "0\n",
      "1\n",
      "2\n",
      "3\n",
      "4\n",
      "5\n",
      "6\n",
      "7\n",
      "8\n",
      "9\n"
     ]
    }
   ],
   "source": [
    "for i in range(0,10):       #range(start ,stop)\n",
    "    print(i)"
   ]
  },
  {
   "cell_type": "code",
   "execution_count": 5,
   "id": "11c9d832-a153-4d59-9ac6-081c7f501035",
   "metadata": {},
   "outputs": [
    {
     "name": "stdout",
     "output_type": "stream",
     "text": [
      "0\n",
      "1\n",
      "2\n",
      "3\n",
      "4\n",
      "5\n",
      "6\n",
      "7\n",
      "8\n",
      "9\n"
     ]
    }
   ],
   "source": [
    "for i in range(0,10,1):  #rnge(start,stop,step)\n",
    "    print(i)"
   ]
  },
  {
   "cell_type": "markdown",
   "id": "0a3717bd-9d8b-4535-a37c-0628addcd773",
   "metadata": {},
   "source": [
    "12. Write a short program that prints the numbers 1 to 10 using a for loop. Then write an equivalent\n",
    "program that prints the numbers 1 to 10 using a while loop.\n",
    "\n",
    "ANSWER\n",
    "\n"
   ]
  },
  {
   "cell_type": "code",
   "execution_count": 9,
   "id": "acfd0a78-86fa-4445-8a62-e1e5f159a4a9",
   "metadata": {},
   "outputs": [
    {
     "name": "stdout",
     "output_type": "stream",
     "text": [
      "1\n",
      "2\n",
      "3\n",
      "4\n",
      "5\n",
      "6\n",
      "7\n",
      "8\n",
      "9\n",
      "10\n"
     ]
    }
   ],
   "source": [
    "for i in range(1,11):  # range (start ,stop)\n",
    "    print(i)"
   ]
  },
  {
   "cell_type": "code",
   "execution_count": 10,
   "id": "5d87b7da-355e-4e56-ad66-3143f2e068a6",
   "metadata": {},
   "outputs": [
    {
     "name": "stdout",
     "output_type": "stream",
     "text": [
      "1\n",
      "2\n",
      "3\n",
      "4\n",
      "5\n",
      "6\n",
      "7\n",
      "8\n",
      "9\n",
      "10\n"
     ]
    }
   ],
   "source": [
    "count=1\n",
    "while count<=10 :\n",
    "    print(count)\n",
    "    count += 1 "
   ]
  },
  {
   "cell_type": "markdown",
   "id": "30248dd0-f098-429c-a496-c5587d7c1910",
   "metadata": {},
   "source": [
    "13. If you had a function named bacon() inside a module named spam, how would you call it after\n",
    "importing spam?\n",
    "\n",
    "ANSWER This function can be called with spam.bacon()."
   ]
  },
  {
   "cell_type": "code",
   "execution_count": null,
   "id": "12f0a52f-f070-4fa5-a3e8-c4d1e6079f02",
   "metadata": {},
   "outputs": [],
   "source": []
  }
 ],
 "metadata": {
  "kernelspec": {
   "display_name": "Python 3 (ipykernel)",
   "language": "python",
   "name": "python3"
  },
  "language_info": {
   "codemirror_mode": {
    "name": "ipython",
    "version": 3
   },
   "file_extension": ".py",
   "mimetype": "text/x-python",
   "name": "python",
   "nbconvert_exporter": "python",
   "pygments_lexer": "ipython3",
   "version": "3.10.6"
  },
  "toc-autonumbering": true,
  "toc-showmarkdowntxt": false,
  "toc-showtags": true
 },
 "nbformat": 4,
 "nbformat_minor": 5
}
